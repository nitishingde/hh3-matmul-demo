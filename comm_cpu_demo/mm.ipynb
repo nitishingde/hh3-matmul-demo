{
 "cells": [
  {
   "cell_type": "code",
   "execution_count": 1,
   "id": "3256e21d",
   "metadata": {},
   "outputs": [],
   "source": [
    "import numpy as np"
   ]
  },
  {
   "cell_type": "markdown",
   "id": "7fe5a7e2",
   "metadata": {},
   "source": [
    "# Do actual matrix matrix multiplication"
   ]
  },
  {
   "cell_type": "code",
   "execution_count": 2,
   "id": "9b5d0865",
   "metadata": {},
   "outputs": [
    {
     "name": "stdout",
     "output_type": "stream",
     "text": [
      "\n",
      "matC += matA * matB\n",
      "[[ 507.  441.  377.  317.  263.  217.  181.  157.  147.  153.  177.  221.]\n",
      " [ 573.  497.  425.  359.  301.  253.  217.  195.  189.  201.  233.  287.]\n",
      " [ 639.  553.  473.  401.  339.  289.  253.  233.  231.  249.  289.  353.]\n",
      " [ 705.  609.  521.  443.  377.  325.  289.  271.  273.  297.  345.  419.]\n",
      " [ 771.  665.  569.  485.  415.  361.  325.  309.  315.  345.  401.  485.]\n",
      " [ 837.  721.  617.  527.  453.  397.  361.  347.  357.  393.  457.  551.]\n",
      " [ 903.  777.  665.  569.  491.  433.  397.  385.  399.  441.  513.  617.]\n",
      " [ 969.  833.  713.  611.  529.  469.  433.  423.  441.  489.  569.  683.]\n",
      " [1035.  889.  761.  653.  567.  505.  469.  461.  483.  537.  625.  749.]\n",
      " [1101.  945.  809.  695.  605.  541.  505.  499.  525.  585.  681.  815.]\n",
      " [1167. 1001.  857.  737.  643.  577.  541.  537.  567.  633.  737.  881.]\n",
      " [1233. 1057.  905.  779.  681.  613.  577.  575.  609.  681.  793.  947.]]\n"
     ]
    }
   ],
   "source": [
    "def debug_mm():\n",
    "    matA = np.zeros((12, 12))\n",
    "    matB = np.zeros((12, 12))\n",
    "    for i in range(matA.shape[0]):\n",
    "        for j in range(matA.shape[1]):\n",
    "            matA[i, j] = abs(i+j)\n",
    "            matB[i, j] = abs(i-j)\n",
    "\n",
    "    matC = np.ones((12, 12))\n",
    "    prod = np.matmul(matA, matB)\n",
    "\n",
    "    matC = np.add(matC, prod)\n",
    "    print('\\nmatC += matA * matB')\n",
    "    print(matC)\n",
    "    \n",
    "    return matC\n",
    "    \n",
    "soln = debug_mm()"
   ]
  },
  {
   "cell_type": "markdown",
   "id": "0ff97c36-d6df-410f-b69c-5ae4db3c51c8",
   "metadata": {},
   "source": [
    "# Do the round robin matrix multiplication"
   ]
  },
  {
   "cell_type": "code",
   "execution_count": 3,
   "id": "0ef7ffd2",
   "metadata": {},
   "outputs": [],
   "source": [
    "matA_1 = np.zeros((12, 4))\n",
    "matB_1 = np.zeros((4, 12))\n",
    "for i in range(matA_1.shape[0]):\n",
    "    for j in range(matA_1.shape[1]):\n",
    "        matA_1[i, j] = abs(i+j)\n",
    "        matB_1[j, i] = abs(i-j)\n",
    "\n",
    "matC_1 = np.ones((12, 12))"
   ]
  },
  {
   "cell_type": "code",
   "execution_count": 4,
   "id": "8a8ad8b7",
   "metadata": {},
   "outputs": [],
   "source": [
    "matA_2 = np.zeros((12, 4))\n",
    "matB_2 = np.zeros((4, 12))\n",
    "for i in range(matA_2.shape[0]):\n",
    "    for j in range(matA_2.shape[1]):\n",
    "        matA_2[i, j] = abs(i+j+4)\n",
    "        matB_2[j, i] = abs(i-j-4)\n",
    "\n",
    "matC_2 = np.zeros((12, 12))"
   ]
  },
  {
   "cell_type": "code",
   "execution_count": 5,
   "id": "101f6a30",
   "metadata": {},
   "outputs": [],
   "source": [
    "matA_3 = np.zeros((12, 4))\n",
    "matB_3 = np.zeros((4, 12))\n",
    "for i in range(matA_3.shape[0]):\n",
    "    for j in range(matA_3.shape[1]):\n",
    "        matA_3[i, j] = abs(i+j+8)\n",
    "        matB_3[j, i] = abs(i-j-8)\n",
    "\n",
    "matC_3 = np.zeros((12, 12))"
   ]
  },
  {
   "cell_type": "code",
   "execution_count": 6,
   "id": "e4c4f4ba",
   "metadata": {},
   "outputs": [],
   "source": [
    "def partial_solve(A, B, C):\n",
    "    for i in range(4):\n",
    "        for j in range(12):\n",
    "            for k in range(12):\n",
    "                C[j, k] += A[j, i]*B[i, k]"
   ]
  },
  {
   "cell_type": "code",
   "execution_count": 7,
   "id": "8c85dac2",
   "metadata": {},
   "outputs": [
    {
     "name": "stdout",
     "output_type": "stream",
     "text": [
      "[[ 15.   9.   5.   5.  11.  17.  23.  29.  35.  41.  47.  53.]\n",
      " [ 21.  13.   9.  11.  21.  31.  41.  51.  61.  71.  81.  91.]\n",
      " [ 27.  17.  13.  17.  31.  45.  59.  73.  87. 101. 115. 129.]\n",
      " [ 33.  21.  17.  23.  41.  59.  77.  95. 113. 131. 149. 167.]\n",
      " [ 39.  25.  21.  29.  51.  73.  95. 117. 139. 161. 183. 205.]\n",
      " [ 45.  29.  25.  35.  61.  87. 113. 139. 165. 191. 217. 243.]\n",
      " [ 51.  33.  29.  41.  71. 101. 131. 161. 191. 221. 251. 281.]\n",
      " [ 57.  37.  33.  47.  81. 115. 149. 183. 217. 251. 285. 319.]\n",
      " [ 63.  41.  37.  53.  91. 129. 167. 205. 243. 281. 319. 357.]\n",
      " [ 69.  45.  41.  59. 101. 143. 185. 227. 269. 311. 353. 395.]\n",
      " [ 75.  49.  45.  65. 111. 157. 203. 249. 295. 341. 387. 433.]\n",
      " [ 81.  53.  49.  71. 121. 171. 221. 271. 321. 371. 421. 471.]]\n"
     ]
    }
   ],
   "source": [
    "partial_solve(matA_1, matB_1, matC_1)\n",
    "print(matC_1)"
   ]
  },
  {
   "cell_type": "code",
   "execution_count": 8,
   "id": "83eca677",
   "metadata": {},
   "outputs": [
    {
     "name": "stdout",
     "output_type": "stream",
     "text": [
      "[[126. 104.  82.  60.  38.  24.  20.  28.  50.  72.  94. 116.]\n",
      " [148. 122.  96.  70.  44.  28.  24.  34.  60.  86. 112. 138.]\n",
      " [170. 140. 110.  80.  50.  32.  28.  40.  70. 100. 130. 160.]\n",
      " [192. 158. 124.  90.  56.  36.  32.  46.  80. 114. 148. 182.]\n",
      " [214. 176. 138. 100.  62.  40.  36.  52.  90. 128. 166. 204.]\n",
      " [236. 194. 152. 110.  68.  44.  40.  58. 100. 142. 184. 226.]\n",
      " [258. 212. 166. 120.  74.  48.  44.  64. 110. 156. 202. 248.]\n",
      " [280. 230. 180. 130.  80.  52.  48.  70. 120. 170. 220. 270.]\n",
      " [302. 248. 194. 140.  86.  56.  52.  76. 130. 184. 238. 292.]\n",
      " [324. 266. 208. 150.  92.  60.  56.  82. 140. 198. 256. 314.]\n",
      " [346. 284. 222. 160.  98.  64.  60.  88. 150. 212. 274. 336.]\n",
      " [368. 302. 236. 170. 104.  68.  64.  94. 160. 226. 292. 358.]]\n"
     ]
    }
   ],
   "source": [
    "partial_solve(matA_2, matB_2, matC_2)\n",
    "print(matC_2)"
   ]
  },
  {
   "cell_type": "code",
   "execution_count": 9,
   "id": "5f6fbf85",
   "metadata": {},
   "outputs": [
    {
     "name": "stdout",
     "output_type": "stream",
     "text": [
      "[[366. 328. 290. 252. 214. 176. 138. 100.  62.  40.  36.  52.]\n",
      " [404. 362. 320. 278. 236. 194. 152. 110.  68.  44.  40.  58.]\n",
      " [442. 396. 350. 304. 258. 212. 166. 120.  74.  48.  44.  64.]\n",
      " [480. 430. 380. 330. 280. 230. 180. 130.  80.  52.  48.  70.]\n",
      " [518. 464. 410. 356. 302. 248. 194. 140.  86.  56.  52.  76.]\n",
      " [556. 498. 440. 382. 324. 266. 208. 150.  92.  60.  56.  82.]\n",
      " [594. 532. 470. 408. 346. 284. 222. 160.  98.  64.  60.  88.]\n",
      " [632. 566. 500. 434. 368. 302. 236. 170. 104.  68.  64.  94.]\n",
      " [670. 600. 530. 460. 390. 320. 250. 180. 110.  72.  68. 100.]\n",
      " [708. 634. 560. 486. 412. 338. 264. 190. 116.  76.  72. 106.]\n",
      " [746. 668. 590. 512. 434. 356. 278. 200. 122.  80.  76. 112.]\n",
      " [784. 702. 620. 538. 456. 374. 292. 210. 128.  84.  80. 118.]]\n"
     ]
    }
   ],
   "source": [
    "partial_solve(matA_3, matB_3, matC_3)\n",
    "print(matC_3)"
   ]
  },
  {
   "cell_type": "code",
   "execution_count": 10,
   "id": "0b25fd95",
   "metadata": {},
   "outputs": [
    {
     "name": "stdout",
     "output_type": "stream",
     "text": [
      "[[ 507.  441.  377.  317.  263.  217.  181.  157.  147.  153.  177.  221.]\n",
      " [ 573.  497.  425.  359.  301.  253.  217.  195.  189.  201.  233.  287.]\n",
      " [ 639.  553.  473.  401.  339.  289.  253.  233.  231.  249.  289.  353.]\n",
      " [ 705.  609.  521.  443.  377.  325.  289.  271.  273.  297.  345.  419.]\n",
      " [ 771.  665.  569.  485.  415.  361.  325.  309.  315.  345.  401.  485.]\n",
      " [ 837.  721.  617.  527.  453.  397.  361.  347.  357.  393.  457.  551.]\n",
      " [ 903.  777.  665.  569.  491.  433.  397.  385.  399.  441.  513.  617.]\n",
      " [ 969.  833.  713.  611.  529.  469.  433.  423.  441.  489.  569.  683.]\n",
      " [1035.  889.  761.  653.  567.  505.  469.  461.  483.  537.  625.  749.]\n",
      " [1101.  945.  809.  695.  605.  541.  505.  499.  525.  585.  681.  815.]\n",
      " [1167. 1001.  857.  737.  643.  577.  541.  537.  567.  633.  737.  881.]\n",
      " [1233. 1057.  905.  779.  681.  613.  577.  575.  609.  681.  793.  947.]]\n"
     ]
    }
   ],
   "source": [
    "res = matC_1 + matC_2 + matC_3\n",
    "print(res)"
   ]
  },
  {
   "cell_type": "code",
   "execution_count": 11,
   "id": "d2c3bb6a",
   "metadata": {},
   "outputs": [
    {
     "data": {
      "text/plain": [
       "True"
      ]
     },
     "execution_count": 11,
     "metadata": {},
     "output_type": "execute_result"
    }
   ],
   "source": [
    "(res == soln).all()"
   ]
  },
  {
   "cell_type": "code",
   "execution_count": null,
   "id": "b58126c1",
   "metadata": {},
   "outputs": [],
   "source": []
  }
 ],
 "metadata": {
  "kernelspec": {
   "display_name": "Python 3 (ipykernel)",
   "language": "python",
   "name": "python3"
  },
  "language_info": {
   "codemirror_mode": {
    "name": "ipython",
    "version": 3
   },
   "file_extension": ".py",
   "mimetype": "text/x-python",
   "name": "python",
   "nbconvert_exporter": "python",
   "pygments_lexer": "ipython3",
   "version": "3.8.10"
  }
 },
 "nbformat": 4,
 "nbformat_minor": 5
}
